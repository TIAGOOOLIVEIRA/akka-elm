{
 "cells": [
  {
   "cell_type": "code",
   "execution_count": 1,
   "metadata": {
    "collapsed": false
   },
   "outputs": [
    {
     "name": "stdout",
     "output_type": "stream",
     "text": [
      "10 new artifact(s)"
     ]
    },
    {
     "name": "stderr",
     "output_type": "stream",
     "text": [
      "10 new artifacts in macro"
     ]
    },
    {
     "name": "stdout",
     "output_type": "stream",
     "text": [
      "\n"
     ]
    },
    {
     "name": "stderr",
     "output_type": "stream",
     "text": [
      "\n",
      "10 new artifacts in runtime\n",
      "10 new artifacts in compile\n"
     ]
    },
    {
     "data": {
      "text/plain": []
     },
     "metadata": {},
     "output_type": "display_data"
    }
   ],
   "source": [
    "classpath.add(\"com.typesafe.akka\" %% \"akka-http-core\" % \"2.4.7\"\n",
    "             , \"com.typesafe.akka\" %% \"akka-http-experimental\" % \"2.4.7\"\n",
    "             )\n"
   ]
  },
  {
   "cell_type": "code",
   "execution_count": 2,
   "metadata": {
    "collapsed": false
   },
   "outputs": [
    {
     "data": {
      "text/plain": [
       "\u001b[32mimport \u001b[36makka.actor.ActorSystem\u001b[0m\n",
       "\u001b[32mimport \u001b[36makka.stream._, scaladsl._\u001b[0m\n",
       "\u001b[32mimport \u001b[36makka.http.scaladsl._, model._\u001b[0m\n",
       "\u001b[32mimport \u001b[36mscala.concurrent._, duration._\u001b[0m\n",
       "\u001b[36msystem\u001b[0m: \u001b[32makka\u001b[0m.\u001b[32mactor\u001b[0m.\u001b[32mActorSystem\u001b[0m = akka://ActorSystem\n",
       "\u001b[36mmaterializer\u001b[0m: \u001b[32makka\u001b[0m.\u001b[32mstream\u001b[0m.\u001b[32mActorMaterializer\u001b[0m = ActorMaterializerImpl(akka://ActorSystem,ActorMaterializerSettings(4,16,,<function1>,StreamSubscriptionTimeoutSettings(CancelTermination,5000 milliseconds),false,1000,1000,false,true),akka.dispatch.Dispatchers@69a634bb,Actor[akka://ActorSystem/user/StreamSupervisor-0#-909057209],false,akka.stream.impl.SeqActorNameImpl@4100ded0)\n",
       "\u001b[36mec\u001b[0m: \u001b[32mconcurrent\u001b[0m.\u001b[32mExecutionContextExecutor\u001b[0m = Dispatcher[akka.actor.default-dispatcher]"
      ]
     },
     "metadata": {},
     "output_type": "display_data"
    }
   ],
   "source": [
    "import akka.actor.ActorSystem\n",
    "import akka.stream._, scaladsl._\n",
    "import akka.http.scaladsl._, model._\n",
    "import scala.concurrent._, duration._\n",
    "implicit val system = ActorSystem(\"ActorSystem\")\n",
    "implicit val materializer = ActorMaterializer()\n",
    "implicit val ec = system.dispatcher"
   ]
  },
  {
   "cell_type": "code",
   "execution_count": 4,
   "metadata": {
    "collapsed": false
   },
   "outputs": [
    {
     "data": {
      "text/plain": [
       "\u001b[36msrc\u001b[0m: \u001b[32mSource\u001b[0m[\u001b[32mInt\u001b[0m, \u001b[32makka\u001b[0m.\u001b[32mNotUsed\u001b[0m] = Source(SourceShape(StatefulMapConcat.out), CompositeModule [28ed324f]\n",
       "  Name: iterableSource\n",
       "  Modules:\n",
       "    (singleSource) GraphStage(SingleSource(Range(1, 2, 3, 4, 5, 6, 7, 8, 9, 10))) [54d040de]\n",
       "    (unnamed) [795bd0aa] copy of GraphStage(StatefulMapConcat) [2b2881fd]\n",
       "  Downstreams: \n",
       "    single.out -> StatefulMapConcat.in\n",
       "  Upstreams: \n",
       "    StatefulMapConcat.in -> single.out\n",
       "  MatValue: Atomic(singleSource[54d040de]))\n",
       "\u001b[36msink\u001b[0m: \u001b[32mSink\u001b[0m[\u001b[32mInt\u001b[0m, \u001b[32mFuture\u001b[0m[\u001b[32mInt\u001b[0m]] = Sink(SinkShape(fold.in), CompositeModule [1b6f8309]\n",
       "  Name: foldSink\n",
       "  Modules:\n",
       "    (fold) GraphStage(fold) [7427cef0]\n",
       "    (unnamed) [2b6283b0] copy of CompositeModule [212b07bf]\n",
       "      Name: unnamed\n",
       "      Modules:\n",
       "        (headSink) GraphStage(HeadOptionStage) [463bbf58]\n",
       "      Downstreams: \n",
       "      Upstreams: \n",
       "      MatValue: Transform(Atomic(headSink[463bbf58]))\n",
       "  Downstreams: \n",
       "    fold.out -> headOption.in\n",
       "  Upstreams: \n",
       "    headOption.in -> fold.out\n",
       "  MatValue: Atomic(akka.stream.impl.StreamLayout$CopiedModule[2b6283b0]))"
      ]
     },
     "metadata": {},
     "output_type": "display_data"
    }
   ],
   "source": [
    "val src = Source(1 to 10)\n",
    "val sink = Sink.fold[Int,Int](0)(_  + _)"
   ]
  },
  {
   "cell_type": "code",
   "execution_count": 6,
   "metadata": {
    "collapsed": false
   },
   "outputs": [
    {
     "data": {
      "text/plain": [
       "\u001b[36mrunnable\u001b[0m: \u001b[32mRunnableGraph\u001b[0m[\u001b[32mFuture\u001b[0m[\u001b[32mInt\u001b[0m]] = \u001b[33mRunnableGraph\u001b[0m(\n",
       "  CompositeModule [443919a7]\n",
       "  Name: unnamed\n",
       "  Modules:\n",
       "    (iterableSource) CompositeModule [28ed324f]\n",
       "      Name: iterableSource\n",
       "      Modules:\n",
       "        (singleSource) GraphStage(SingleSource(Range(1, 2, 3, 4, 5, 6, 7, 8, 9, 10))) [54d040de]\n",
       "        (unnamed) [795bd0aa] copy of GraphStage(StatefulMapConcat) [2b2881fd]\n",
       "      Downstreams: \n",
       "        single.out -> StatefulMapConcat.in\n",
       "      Upstreams: \n",
       "        StatefulMapConcat.in -> single.out\n",
       "      MatValue: Atomic(singleSource[54d040de])\n",
       "    (foldSink) [5e65de10] copy of CompositeModule [1b6f8309]\n",
       "      Name: foldSink\n",
       "      Modules:\n",
       "        (fold) GraphStage(fold) [7427cef0]\n",
       "        (unnamed) [2b6283b0] copy of CompositeModule [212b07bf]\n",
       "\u001b[33m...\u001b[0m"
      ]
     },
     "metadata": {},
     "output_type": "display_data"
    }
   ],
   "source": [
    "val runnable = src.toMat(sink)(Keep.right)"
   ]
  },
  {
   "cell_type": "code",
   "execution_count": 9,
   "metadata": {
    "collapsed": false
   },
   "outputs": [
    {
     "data": {
      "text/plain": [
       "\u001b[36mres8\u001b[0m: \u001b[32mInt\u001b[0m = \u001b[32m55\u001b[0m"
      ]
     },
     "metadata": {},
     "output_type": "display_data"
    }
   ],
   "source": [
    "Await.result(runnable.run(), 1 second)"
   ]
  },
  {
   "cell_type": "code",
   "execution_count": 22,
   "metadata": {
    "collapsed": false
   },
   "outputs": [
    {
     "data": {
      "text/plain": [
       "\u001b[36mres21\u001b[0m: \u001b[32mFuture\u001b[0m[\u001b[32mInt\u001b[0m] = Success(21)"
      ]
     },
     "metadata": {},
     "output_type": "display_data"
    }
   ],
   "source": [
    "Source(1 to 6).runWith(Sink.reduce[Int](_ + _))"
   ]
  }
 ],
 "metadata": {
  "kernelspec": {
   "display_name": "Scala 2.11",
   "language": "scala211",
   "name": "scala211"
  },
  "language_info": {
   "codemirror_mode": "text/x-scala",
   "file_extension": ".scala",
   "mimetype": "text/x-scala",
   "name": "scala211",
   "pygments_lexer": "scala",
   "version": "2.11.8"
  }
 },
 "nbformat": 4,
 "nbformat_minor": 0
}
