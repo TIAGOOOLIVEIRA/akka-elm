{
 "cells": [
  {
   "cell_type": "code",
   "execution_count": 21,
   "metadata": {
    "collapsed": false
   },
   "outputs": [
    {
     "name": "stdout",
     "output_type": "stream",
     "text": [
      "0 new artifact(s)\n"
     ]
    },
    {
     "data": {
      "text/plain": []
     },
     "metadata": {},
     "output_type": "display_data"
    }
   ],
   "source": [
    "// initialize akkahttp\n",
    "classpath.add(\"com.typesafe.akka\" %% \"akka-http-core\" % \"2.4.7\"\n",
    "             , \"com.typesafe.akka\" %% \"akka-http-experimental\" % \"2.4.7\"\n",
    "             )\n"
   ]
  },
  {
   "cell_type": "code",
   "execution_count": 22,
   "metadata": {
    "collapsed": false
   },
   "outputs": [
    {
     "data": {
      "text/plain": [
       "\u001b[32mimport \u001b[36makka.actor.ActorSystem\u001b[0m\n",
       "\u001b[32mimport \u001b[36makka.http.scaladsl.Http\u001b[0m\n",
       "\u001b[32mimport \u001b[36makka.stream.ActorMaterializer\u001b[0m\n",
       "\u001b[32mimport \u001b[36makka.http.scaladsl.Http\u001b[0m\n",
       "\u001b[32mimport \u001b[36makka.http.scaladsl.model.HttpRequest\u001b[0m\n",
       "\u001b[32mimport \u001b[36makka.stream.scaladsl.{Sink, Source}\u001b[0m\n",
       "\u001b[32mimport \u001b[36mscala.concurrent._, duration._\u001b[0m\n",
       "\u001b[36msystem\u001b[0m: \u001b[32mActorSystem\u001b[0m = akka://ActorSystem\n",
       "\u001b[36mmaterializer\u001b[0m: \u001b[32mActorMaterializer\u001b[0m = ActorMaterializerImpl(akka://ActorSystem,ActorMaterializerSettings(4,16,,<function1>,StreamSubscriptionTimeoutSettings(CancelTermination,5000 milliseconds),false,1000,1000,false,true),akka.dispatch.Dispatchers@c2af2c8,Actor[akka://ActorSystem/user/StreamSupervisor-4#665958691],false,akka.stream.impl.SeqActorNameImpl@6f63c521)\n",
       "\u001b[36mec\u001b[0m: \u001b[32mExecutionContextExecutor\u001b[0m = Dispatcher[akka.actor.default-dispatcher]\n",
       "\u001b[32mimport \u001b[36makka.util.ByteString\u001b[0m"
      ]
     },
     "metadata": {},
     "output_type": "display_data"
    }
   ],
   "source": [
    "import akka.actor.ActorSystem\n",
    "import akka.http.scaladsl.Http\n",
    "import akka.stream.ActorMaterializer\n",
    "import akka.http.scaladsl.Http\n",
    "import akka.http.scaladsl.model.HttpRequest\n",
    "import akka.stream.scaladsl.{Sink, Source}\n",
    "import scala.concurrent._, duration._\n",
    "implicit val system = ActorSystem(\"ActorSystem\")\n",
    "implicit val materializer = ActorMaterializer()\n",
    "implicit val ec = system.dispatcher\n",
    "import akka.util.ByteString"
   ]
  },
  {
   "cell_type": "code",
   "execution_count": 32,
   "metadata": {
    "collapsed": false,
    "scrolled": false
   },
   "outputs": [
    {
     "data": {
      "text/plain": [
       "\u001b[36murl\u001b[0m: \u001b[32mString\u001b[0m = \u001b[32m\"http://localhost:8000/src/Hello.elm\"\u001b[0m\n",
       "\u001b[36mreq\u001b[0m: \u001b[32mHttpRequest\u001b[0m = HttpRequest(HttpMethod(GET),http://localhost:8000/src/Hello.elm,List(),HttpEntity.Strict(none/none,ByteString()),HttpProtocol(HTTP/1.1))\n",
       "\u001b[36mflow\u001b[0m: \u001b[32makka\u001b[0m.\u001b[32mstream\u001b[0m.\u001b[32mscaladsl\u001b[0m.\u001b[32mFlow\u001b[0m[\u001b[32mHttpRequest\u001b[0m, \u001b[32makka\u001b[0m.\u001b[32mhttp\u001b[0m.\u001b[32mscaladsl\u001b[0m.\u001b[32mmodel\u001b[0m.\u001b[32mHttpResponse\u001b[0m, \u001b[32mFuture\u001b[0m[\u001b[32mHttp\u001b[0m.\u001b[32mOutgoingConnection\u001b[0m]] = Flow(FlowShape(One2OneBidi.in,One2OneBidi.out), CompositeModule [67ee0beb]\n",
       "  Name: unnamed\n",
       "  Modules:\n",
       "    (One2OneBidi) GraphStage(One2OneBidi) [7230c209]\n",
       "    (unnamed) [3b0862d3] copy of CompositeModule [281ca168]\n",
       "      Name: unnamed\n",
       "      Modules:\n",
       "        (unnamed) [528b510a] copy of CompositeModule [3f3a56d3]\n",
       "          Name: unnamed\n",
       "          Modules:\n",
       "            (map) GraphStage(map) [4beefbb7]\n",
       "          Downstreams: \n",
       "          Upstreams: \n",
       "          MatValue: Ignore\n",
       "        (unnamed) [2bcb3df8] copy of GraphStage(akka.http.impl.engine.client.OutgoingConnectionBlueprint$TerminationMerge$@6b22b4b4) [73da4f78]\n",
       "        (unnamed) [01bb547b] copy of GraphStage(akka.http.impl.engine.client.OutgoingConnectionBlueprint$ResponseParsingMerge@7e52f60b) [330806e3]\n",
       "        (unnamed) [744984f0] copy of CompositeModule [1333bbdc]\n",
       "          Name: unnamed\n",
       "\u001b[33m...\u001b[0m"
      ]
     },
     "metadata": {},
     "output_type": "display_data"
    }
   ],
   "source": [
    "val url = \"http://localhost:8000/src/Hello.elm\"\n",
    "//val url = \"http://localhost:8000\"\n",
    "\n",
    "val req = HttpRequest(uri=url)\n",
    "val flow = Http().outgoingConnection(req.uri.authority.host.toString, req.uri.authority.port)"
   ]
  },
  {
   "cell_type": "code",
   "execution_count": 31,
   "metadata": {
    "collapsed": false
   },
   "outputs": [
    {
     "ename": "",
     "evalue": "",
     "output_type": "error",
     "traceback": [
      "akka.stream.StreamTcpException: Tcp command [Connect(www.timeapi.org/54.243.92.118:0,None,List(),Some(10 seconds),true)] failed (Tcp command [Connect(www.timeapi.org/54.243.92.118:0,None,List(),Some(10 seconds),true)] failed)"
     ]
    }
   ],
   "source": [
    "val r = Source.single(req).via(flow).runWith(Sink.head)\n",
    "val res = Await.result(r, 30 second)\n",
    "var red = Sink.reduce[ByteString](_.concat(_))\n",
    "val bs = Await.result(res.entity.dataBytes.runWith(red), 1 second)"
   ]
  },
  {
   "cell_type": "code",
   "execution_count": 28,
   "metadata": {
    "collapsed": false
   },
   "outputs": [
    {
     "data": {
      "text/plain": [
       "\u001b[36mres27\u001b[0m: \u001b[32mString\u001b[0m = \u001b[32m\"\"\"\n",
       "<!DOCTYPE HTML>\n",
       "<html><head><meta charset=\"UTF-8\"><title>Page Not Found</title><style type=\"text/css\">@import url(http://fonts.googleapis.com/css?family=Source+Sans+Pro|Source+Code+Pro);\n",
       "html, head, body {\n",
       "  margin: 0;\n",
       "  height: 100%;\n",
       "}\n",
       "body {\n",
       "  font-family: 'Source Sans Pro', 'Trebuchet MS', 'Lucida Grande', 'Bitstream Vera Sans', 'Helvetica Neue', sans-serif;\n",
       "  color: #293c4b;\n",
       "}\n",
       "a { color: #60B5CC; text-decoration: none; }\n",
       "a:hover { text-decoration: underline; }\n",
       "</style><script src=\"/_reactor/notFound.js\"></script></head><body><script>Elm.NotFound.fullscreen();</script></body></html>\n",
       "\"\"\"\u001b[0m"
      ]
     },
     "metadata": {},
     "output_type": "display_data"
    }
   ],
   "source": [
    "bs.decodeString(\"UTF-8\")"
   ]
  }
 ],
 "metadata": {
  "kernelspec": {
   "display_name": "Scala 2.11",
   "language": "scala211",
   "name": "scala211"
  },
  "language_info": {
   "codemirror_mode": "text/x-scala",
   "file_extension": ".scala",
   "mimetype": "text/x-scala",
   "name": "scala211",
   "pygments_lexer": "scala",
   "version": "2.11.8"
  }
 },
 "nbformat": 4,
 "nbformat_minor": 0
}
